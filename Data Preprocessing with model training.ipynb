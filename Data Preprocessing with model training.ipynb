{
 "cells": [
  {
   "cell_type": "markdown",
   "id": "73135157-35fc-4f81-9970-ee1dd2629234",
   "metadata": {},
   "source": [
    "# Data Mining (CpSc 8650) Course Project  Quality Evaluation of Skull Stripped Brain MRI Images"
   ]
  },
  {
   "cell_type": "code",
   "execution_count": 56,
   "id": "faa61c3d",
   "metadata": {},
   "outputs": [],
   "source": [
    "import os\n",
    "import zipfile\n",
    "import numpy as np\n",
    "import tensorflow as tf\n",
    "import nibabel as nib\n",
    "import random\n",
    "import csv\n",
    "from scipy import ndimage\n",
    "import pandas as pd\n",
    "from tensorflow import keras\n",
    "import tensorflow.keras.optimizers as optimizers\n",
    "# from sklearn.model_selection import train_test_split\n",
    "# from sklearn.model_selection import KFold\n",
    "from sklearn.model_selection import StratifiedKFold\n",
    "from tensorflow.keras import layers\n",
    "import pickle\n",
    "import matplotlib.pyplot as plt\n",
    "%matplotlib inline"
   ]
  },
  {
   "cell_type": "code",
   "execution_count": 57,
   "id": "2fe9c343-c01b-4872-8f82-60c2b9bd19e1",
   "metadata": {},
   "outputs": [],
   "source": [
    "# if tf.config.list_physical_devices('GPU'):\n",
    "#     physical_devices = tf.config.list_physical_devices('GPU')\n",
    "#     tf.config.experimental.set_memory_growth(physical_devices[0], enable=True)\n",
    "#     tf.config.experimental.set_virtual_device_configuration(physical_devices[0], [tf.config.experimental.VirtualDeviceConfiguration(memory_limit=4000)])"
   ]
  },
  {
   "cell_type": "code",
   "execution_count": 58,
   "id": "e1cf7e9c-8211-49fc-a4da-c22de3361db9",
   "metadata": {},
   "outputs": [],
   "source": [
    "# !conda create -n my_environment -y\n",
    "# !source activate my_environment\n",
    "# !pip install sklearn\n",
    "# !pip install nibabel\n",
    "#!wget --no-check-certificate https://dyslexia.computing.clemson.edu/BET_BSE/BET_BSE_DATA.zip"
   ]
  },
  {
   "cell_type": "code",
   "execution_count": 59,
   "id": "9f38ebf0",
   "metadata": {},
   "outputs": [],
   "source": [
    "# load and return data \n",
    "def load_data(csv_file_path, test_size = 0.3, x_names = [], y_names = []):\n",
    "\n",
    "    \n",
    "    \"\"\"\n",
    "    Load training data and split it into training and validation set\n",
    "    \"\"\"\n",
    "    print (\"Loading data from: \",csv_file_path)\n",
    "    #reads CSV file into a single dataframe variable\n",
    "    data_df = pd.read_csv(csv_file_path, names=x_names+y_names, skiprows=1)\n",
    "\n",
    "    #yay dataframes, we can select rows and columns by their names\n",
    "    X = data_df[x_names].values\n",
    "    #and our steering commands as our output data\n",
    "    y = data_df[y_names ].values\n",
    "\n",
    "    return X, y\n",
    "\n",
    "def read_nifti_file(filepath):\n",
    "    \"\"\"Read and load volume\"\"\"\n",
    "    # Read file\n",
    "    scan = nib.load(filepath)\n",
    "    # Get raw data\n",
    "    scan = scan.get_fdata()\n",
    "    return scan\n",
    "\n",
    "\n",
    "def normalize(volume):\n",
    "    \"\"\"Normalize the volume\"\"\"\n",
    "    min = -1000\n",
    "    max = 400\n",
    "    volume[volume < min] = min\n",
    "    volume[volume > max] = max\n",
    "    volume = (volume - min) / (max - min)\n",
    "    volume = volume.astype(\"float32\")\n",
    "    return volume\n",
    "\n",
    "\n",
    "def resize_volume(img):\n",
    "    \"\"\"Resize across z-axis\"\"\"\n",
    "    # Set the desired depth\n",
    "    desired_depth = 64\n",
    "    desired_width = 128\n",
    "    desired_height = 128\n",
    "    # Get current depth\n",
    "    current_depth = img.shape[-1]\n",
    "    current_width = img.shape[0]\n",
    "    current_height = img.shape[1]\n",
    "    # Compute depth factor\n",
    "    depth = current_depth / desired_depth\n",
    "    width = current_width / desired_width\n",
    "    height = current_height / desired_height\n",
    "    depth_factor = 1 / depth\n",
    "    width_factor = 1 / width\n",
    "    height_factor = 1 / height\n",
    "    # Rotate\n",
    "    img = ndimage.rotate(img, 90, reshape=False)\n",
    "    # Resize across z-axis\n",
    "    print((width_factor, height_factor, depth_factor))\n",
    "    img = ndimage.zoom(img, (width_factor, height_factor, depth_factor), order=1)\n",
    "    print(img.shape)\n",
    "    return img\n",
    "\n",
    "def process_scan(path):\n",
    "#     global i\n",
    "    \"\"\"Read and resize volume\"\"\"\n",
    "    # Read scan\n",
    "    volume = read_nifti_file(path)\n",
    "    # Normalize\n",
    "    volume = normalize(volume)\n",
    "    #Resize width, height and depth\n",
    "    volume = resize_volume(volume)\n",
    "#     i+=1\n",
    "#     print(i)\n",
    "    return volume"
   ]
  },
  {
   "cell_type": "code",
   "execution_count": 60,
   "id": "68a0d543-e1dc-4e17-bcaa-84de77a0b007",
   "metadata": {},
   "outputs": [],
   "source": [
    "@tf.function\n",
    "def rotate(volume):\n",
    "    \"\"\"Rotate the volume by a few degrees\"\"\"\n",
    "\n",
    "    def scipy_rotate(volume):\n",
    "        # define some rotation angles\n",
    "        angles = [0]\n",
    "        # pick angles at random\n",
    "        angle = random.choice(angles)\n",
    "        # rotate volume\n",
    "        volume = ndimage.rotate(volume, angle, reshape=False)\n",
    "        volume[volume < 0] = 0\n",
    "        volume[volume > 1] = 1\n",
    "        return volume\n",
    "\n",
    "    augmented_volume = tf.numpy_function(scipy_rotate, [volume], tf.float32)\n",
    "    return augmented_volume\n",
    "\n",
    "\n",
    "def train_preprocessing(volume, labels):\n",
    "    \"\"\"Process training data by rotating and adding a channel.\"\"\"\n",
    "    # Rotate volume\n",
    "#     volume = rotate(volume)\n",
    "    volume = tf.expand_dims(volume, axis=3)\n",
    "    return volume, labels\n",
    "\n",
    "\n",
    "def validation_preprocessing(volume, label):\n",
    "    \"\"\"Process validation data by only adding a channel.\"\"\"\n",
    "    volume = tf.expand_dims(volume, axis=3)\n",
    "    return volume, label\n",
    "\n"
   ]
  },
  {
   "cell_type": "markdown",
   "id": "f7aa299c-461d-4ee6-89a8-de1884a1c5cb",
   "metadata": {},
   "source": [
    "# Get Data"
   ]
  },
  {
   "cell_type": "code",
   "execution_count": 61,
   "id": "f7f55562-1262-4826-9958-bc8d7ffb0b90",
   "metadata": {},
   "outputs": [
    {
     "name": "stdout",
     "output_type": "stream",
     "text": [
      "Loading data from:  /home/abastol/DataMining/Project/dataset/Label_file.csv\n"
     ]
    }
   ],
   "source": [
    "data = load_data(label_file_path, x_names = [\"Filename\"], y_names = [\"Recognizable-Facial-Feature\",\"Brain-Feature-Loss\"])"
   ]
  },
  {
   "cell_type": "markdown",
   "id": "40d7f486-8d0a-4ec9-a371-c4bda4419cec",
   "metadata": {},
   "source": [
    "# Using Train Test Split"
   ]
  },
  {
   "cell_type": "code",
   "execution_count": 62,
   "id": "d3db25cb-dbba-4d77-b1dc-23effcff6aea",
   "metadata": {},
   "outputs": [],
   "source": [
    "# #now we can split the data into a training (80), testing(20), and validation set\n",
    "# #thanks scikit learn\n",
    "# test_size = 0.3\n",
    "# label_file_path = os.path.join(os.path.abspath(os.pardir), \"dataset\", \"Label_file.csv\")\n",
    "# X_train, X_valid, y_train, y_valid = train_test_split(data[0], data[1], test_size=test_size, random_state=0)"
   ]
  },
  {
   "cell_type": "markdown",
   "id": "0fad248e-95ec-4f82-9a70-e134bf03844e",
   "metadata": {},
   "source": [
    "# Using K-Fold Cross Validation"
   ]
  },
  {
   "cell_type": "code",
   "execution_count": 71,
   "id": "3b81e93d-5cf5-436f-9804-9d5feb2c3635",
   "metadata": {},
   "outputs": [
    {
     "ename": "ValueError",
     "evalue": "Supported target types are: ('binary', 'multiclass'). Got 'multiclass-multioutput' instead.",
     "output_type": "error",
     "traceback": [
      "\u001b[0;31m---------------------------------------------------------------------------\u001b[0m",
      "\u001b[0;31mValueError\u001b[0m                                Traceback (most recent call last)",
      "Input \u001b[0;32mIn [71]\u001b[0m, in \u001b[0;36m<cell line: 1>\u001b[0;34m()\u001b[0m\n\u001b[0;32m----> 1\u001b[0m \u001b[38;5;28;43mnext\u001b[39;49m\u001b[43m(\u001b[49m\u001b[43mskf\u001b[49m\u001b[38;5;241;43m.\u001b[39;49m\u001b[43msplit\u001b[49m\u001b[43m(\u001b[49m\u001b[43mdata\u001b[49m\u001b[43m[\u001b[49m\u001b[38;5;241;43m0\u001b[39;49m\u001b[43m]\u001b[49m\u001b[43m,\u001b[49m\u001b[43m \u001b[49m\u001b[43mdata\u001b[49m\u001b[43m[\u001b[49m\u001b[38;5;241;43m1\u001b[39;49m\u001b[43m]\u001b[49m\u001b[43m)\u001b[49m\u001b[43m)\u001b[49m\n",
      "File \u001b[0;32m~/gpuEnv/lib/python3.8/site-packages/sklearn/model_selection/_split.py:340\u001b[0m, in \u001b[0;36m_BaseKFold.split\u001b[0;34m(self, X, y, groups)\u001b[0m\n\u001b[1;32m    332\u001b[0m \u001b[38;5;28;01mif\u001b[39;00m \u001b[38;5;28mself\u001b[39m\u001b[38;5;241m.\u001b[39mn_splits \u001b[38;5;241m>\u001b[39m n_samples:\n\u001b[1;32m    333\u001b[0m     \u001b[38;5;28;01mraise\u001b[39;00m \u001b[38;5;167;01mValueError\u001b[39;00m(\n\u001b[1;32m    334\u001b[0m         (\n\u001b[1;32m    335\u001b[0m             \u001b[38;5;124m\"\u001b[39m\u001b[38;5;124mCannot have number of splits n_splits=\u001b[39m\u001b[38;5;132;01m{0}\u001b[39;00m\u001b[38;5;124m greater\u001b[39m\u001b[38;5;124m\"\u001b[39m\n\u001b[1;32m    336\u001b[0m             \u001b[38;5;124m\"\u001b[39m\u001b[38;5;124m than the number of samples: n_samples=\u001b[39m\u001b[38;5;132;01m{1}\u001b[39;00m\u001b[38;5;124m.\u001b[39m\u001b[38;5;124m\"\u001b[39m\n\u001b[1;32m    337\u001b[0m         )\u001b[38;5;241m.\u001b[39mformat(\u001b[38;5;28mself\u001b[39m\u001b[38;5;241m.\u001b[39mn_splits, n_samples)\n\u001b[1;32m    338\u001b[0m     )\n\u001b[0;32m--> 340\u001b[0m \u001b[38;5;28;01mfor\u001b[39;00m train, test \u001b[38;5;129;01min\u001b[39;00m \u001b[38;5;28msuper\u001b[39m()\u001b[38;5;241m.\u001b[39msplit(X, y, groups):\n\u001b[1;32m    341\u001b[0m     \u001b[38;5;28;01myield\u001b[39;00m train, test\n",
      "File \u001b[0;32m~/gpuEnv/lib/python3.8/site-packages/sklearn/model_selection/_split.py:86\u001b[0m, in \u001b[0;36mBaseCrossValidator.split\u001b[0;34m(self, X, y, groups)\u001b[0m\n\u001b[1;32m     84\u001b[0m X, y, groups \u001b[38;5;241m=\u001b[39m indexable(X, y, groups)\n\u001b[1;32m     85\u001b[0m indices \u001b[38;5;241m=\u001b[39m np\u001b[38;5;241m.\u001b[39marange(_num_samples(X))\n\u001b[0;32m---> 86\u001b[0m \u001b[38;5;28;01mfor\u001b[39;00m test_index \u001b[38;5;129;01min\u001b[39;00m \u001b[38;5;28mself\u001b[39m\u001b[38;5;241m.\u001b[39m_iter_test_masks(X, y, groups):\n\u001b[1;32m     87\u001b[0m     train_index \u001b[38;5;241m=\u001b[39m indices[np\u001b[38;5;241m.\u001b[39mlogical_not(test_index)]\n\u001b[1;32m     88\u001b[0m     test_index \u001b[38;5;241m=\u001b[39m indices[test_index]\n",
      "File \u001b[0;32m~/gpuEnv/lib/python3.8/site-packages/sklearn/model_selection/_split.py:709\u001b[0m, in \u001b[0;36mStratifiedKFold._iter_test_masks\u001b[0;34m(self, X, y, groups)\u001b[0m\n\u001b[1;32m    708\u001b[0m \u001b[38;5;28;01mdef\u001b[39;00m \u001b[38;5;21m_iter_test_masks\u001b[39m(\u001b[38;5;28mself\u001b[39m, X, y\u001b[38;5;241m=\u001b[39m\u001b[38;5;28;01mNone\u001b[39;00m, groups\u001b[38;5;241m=\u001b[39m\u001b[38;5;28;01mNone\u001b[39;00m):\n\u001b[0;32m--> 709\u001b[0m     test_folds \u001b[38;5;241m=\u001b[39m \u001b[38;5;28;43mself\u001b[39;49m\u001b[38;5;241;43m.\u001b[39;49m\u001b[43m_make_test_folds\u001b[49m\u001b[43m(\u001b[49m\u001b[43mX\u001b[49m\u001b[43m,\u001b[49m\u001b[43m \u001b[49m\u001b[43my\u001b[49m\u001b[43m)\u001b[49m\n\u001b[1;32m    710\u001b[0m     \u001b[38;5;28;01mfor\u001b[39;00m i \u001b[38;5;129;01min\u001b[39;00m \u001b[38;5;28mrange\u001b[39m(\u001b[38;5;28mself\u001b[39m\u001b[38;5;241m.\u001b[39mn_splits):\n\u001b[1;32m    711\u001b[0m         \u001b[38;5;28;01myield\u001b[39;00m test_folds \u001b[38;5;241m==\u001b[39m i\n",
      "File \u001b[0;32m~/gpuEnv/lib/python3.8/site-packages/sklearn/model_selection/_split.py:652\u001b[0m, in \u001b[0;36mStratifiedKFold._make_test_folds\u001b[0;34m(self, X, y)\u001b[0m\n\u001b[1;32m    650\u001b[0m allowed_target_types \u001b[38;5;241m=\u001b[39m (\u001b[38;5;124m\"\u001b[39m\u001b[38;5;124mbinary\u001b[39m\u001b[38;5;124m\"\u001b[39m, \u001b[38;5;124m\"\u001b[39m\u001b[38;5;124mmulticlass\u001b[39m\u001b[38;5;124m\"\u001b[39m)\n\u001b[1;32m    651\u001b[0m \u001b[38;5;28;01mif\u001b[39;00m type_of_target_y \u001b[38;5;129;01mnot\u001b[39;00m \u001b[38;5;129;01min\u001b[39;00m allowed_target_types:\n\u001b[0;32m--> 652\u001b[0m     \u001b[38;5;28;01mraise\u001b[39;00m \u001b[38;5;167;01mValueError\u001b[39;00m(\n\u001b[1;32m    653\u001b[0m         \u001b[38;5;124m\"\u001b[39m\u001b[38;5;124mSupported target types are: \u001b[39m\u001b[38;5;132;01m{}\u001b[39;00m\u001b[38;5;124m. Got \u001b[39m\u001b[38;5;132;01m{!r}\u001b[39;00m\u001b[38;5;124m instead.\u001b[39m\u001b[38;5;124m\"\u001b[39m\u001b[38;5;241m.\u001b[39mformat(\n\u001b[1;32m    654\u001b[0m             allowed_target_types, type_of_target_y\n\u001b[1;32m    655\u001b[0m         )\n\u001b[1;32m    656\u001b[0m     )\n\u001b[1;32m    658\u001b[0m y \u001b[38;5;241m=\u001b[39m column_or_1d(y)\n\u001b[1;32m    660\u001b[0m _, y_idx, y_inv \u001b[38;5;241m=\u001b[39m np\u001b[38;5;241m.\u001b[39munique(y, return_index\u001b[38;5;241m=\u001b[39m\u001b[38;5;28;01mTrue\u001b[39;00m, return_inverse\u001b[38;5;241m=\u001b[39m\u001b[38;5;28;01mTrue\u001b[39;00m)\n",
      "\u001b[0;31mValueError\u001b[0m: Supported target types are: ('binary', 'multiclass'). Got 'multiclass-multioutput' instead."
     ]
    }
   ],
   "source": [
    "next(skf.split(data[0], data[1]))"
   ]
  },
  {
   "cell_type": "code",
   "execution_count": 72,
   "id": "10d5d0bf-5c54-4566-8115-7d5792aedfbb",
   "metadata": {},
   "outputs": [
    {
     "name": "stdout",
     "output_type": "stream",
     "text": [
      "No.of splits:  4\n",
      "StratifiedKFold(n_splits=4, random_state=None, shuffle=False)\n"
     ]
    },
    {
     "ename": "ValueError",
     "evalue": "Supported target types are: ('binary', 'multiclass'). Got 'multiclass-multioutput' instead.",
     "output_type": "error",
     "traceback": [
      "\u001b[0;31m---------------------------------------------------------------------------\u001b[0m",
      "\u001b[0;31mValueError\u001b[0m                                Traceback (most recent call last)",
      "Input \u001b[0;32mIn [72]\u001b[0m, in \u001b[0;36m<cell line: 6>\u001b[0;34m()\u001b[0m\n\u001b[1;32m      4\u001b[0m \u001b[38;5;28mprint\u001b[39m(skf)\n\u001b[1;32m      5\u001b[0m StratifiedKFold(n_splits\u001b[38;5;241m=\u001b[39mn_splits, random_state\u001b[38;5;241m=\u001b[39m\u001b[38;5;28;01mNone\u001b[39;00m, shuffle\u001b[38;5;241m=\u001b[39m\u001b[38;5;28;01mFalse\u001b[39;00m)\n\u001b[0;32m----> 6\u001b[0m \u001b[38;5;28;01mfor\u001b[39;00m train_index, valid_index \u001b[38;5;129;01min\u001b[39;00m skf\u001b[38;5;241m.\u001b[39msplit(data[\u001b[38;5;241m0\u001b[39m], data[\u001b[38;5;241m1\u001b[39m]):\n\u001b[1;32m      7\u001b[0m     \u001b[38;5;28mprint\u001b[39m(\u001b[38;5;124m\"\u001b[39m\u001b[38;5;124mTRAIN:\u001b[39m\u001b[38;5;124m\"\u001b[39m, train_index, \u001b[38;5;124m\"\u001b[39m\u001b[38;5;124mTEST:\u001b[39m\u001b[38;5;124m\"\u001b[39m, valid_index)\n\u001b[1;32m      8\u001b[0m     X_train, X_valid \u001b[38;5;241m=\u001b[39m X[train_index], X[valid_index]\n",
      "File \u001b[0;32m~/gpuEnv/lib/python3.8/site-packages/sklearn/model_selection/_split.py:340\u001b[0m, in \u001b[0;36m_BaseKFold.split\u001b[0;34m(self, X, y, groups)\u001b[0m\n\u001b[1;32m    332\u001b[0m \u001b[38;5;28;01mif\u001b[39;00m \u001b[38;5;28mself\u001b[39m\u001b[38;5;241m.\u001b[39mn_splits \u001b[38;5;241m>\u001b[39m n_samples:\n\u001b[1;32m    333\u001b[0m     \u001b[38;5;28;01mraise\u001b[39;00m \u001b[38;5;167;01mValueError\u001b[39;00m(\n\u001b[1;32m    334\u001b[0m         (\n\u001b[1;32m    335\u001b[0m             \u001b[38;5;124m\"\u001b[39m\u001b[38;5;124mCannot have number of splits n_splits=\u001b[39m\u001b[38;5;132;01m{0}\u001b[39;00m\u001b[38;5;124m greater\u001b[39m\u001b[38;5;124m\"\u001b[39m\n\u001b[1;32m    336\u001b[0m             \u001b[38;5;124m\"\u001b[39m\u001b[38;5;124m than the number of samples: n_samples=\u001b[39m\u001b[38;5;132;01m{1}\u001b[39;00m\u001b[38;5;124m.\u001b[39m\u001b[38;5;124m\"\u001b[39m\n\u001b[1;32m    337\u001b[0m         )\u001b[38;5;241m.\u001b[39mformat(\u001b[38;5;28mself\u001b[39m\u001b[38;5;241m.\u001b[39mn_splits, n_samples)\n\u001b[1;32m    338\u001b[0m     )\n\u001b[0;32m--> 340\u001b[0m \u001b[38;5;28;01mfor\u001b[39;00m train, test \u001b[38;5;129;01min\u001b[39;00m \u001b[38;5;28msuper\u001b[39m()\u001b[38;5;241m.\u001b[39msplit(X, y, groups):\n\u001b[1;32m    341\u001b[0m     \u001b[38;5;28;01myield\u001b[39;00m train, test\n",
      "File \u001b[0;32m~/gpuEnv/lib/python3.8/site-packages/sklearn/model_selection/_split.py:86\u001b[0m, in \u001b[0;36mBaseCrossValidator.split\u001b[0;34m(self, X, y, groups)\u001b[0m\n\u001b[1;32m     84\u001b[0m X, y, groups \u001b[38;5;241m=\u001b[39m indexable(X, y, groups)\n\u001b[1;32m     85\u001b[0m indices \u001b[38;5;241m=\u001b[39m np\u001b[38;5;241m.\u001b[39marange(_num_samples(X))\n\u001b[0;32m---> 86\u001b[0m \u001b[38;5;28;01mfor\u001b[39;00m test_index \u001b[38;5;129;01min\u001b[39;00m \u001b[38;5;28mself\u001b[39m\u001b[38;5;241m.\u001b[39m_iter_test_masks(X, y, groups):\n\u001b[1;32m     87\u001b[0m     train_index \u001b[38;5;241m=\u001b[39m indices[np\u001b[38;5;241m.\u001b[39mlogical_not(test_index)]\n\u001b[1;32m     88\u001b[0m     test_index \u001b[38;5;241m=\u001b[39m indices[test_index]\n",
      "File \u001b[0;32m~/gpuEnv/lib/python3.8/site-packages/sklearn/model_selection/_split.py:709\u001b[0m, in \u001b[0;36mStratifiedKFold._iter_test_masks\u001b[0;34m(self, X, y, groups)\u001b[0m\n\u001b[1;32m    708\u001b[0m \u001b[38;5;28;01mdef\u001b[39;00m \u001b[38;5;21m_iter_test_masks\u001b[39m(\u001b[38;5;28mself\u001b[39m, X, y\u001b[38;5;241m=\u001b[39m\u001b[38;5;28;01mNone\u001b[39;00m, groups\u001b[38;5;241m=\u001b[39m\u001b[38;5;28;01mNone\u001b[39;00m):\n\u001b[0;32m--> 709\u001b[0m     test_folds \u001b[38;5;241m=\u001b[39m \u001b[38;5;28;43mself\u001b[39;49m\u001b[38;5;241;43m.\u001b[39;49m\u001b[43m_make_test_folds\u001b[49m\u001b[43m(\u001b[49m\u001b[43mX\u001b[49m\u001b[43m,\u001b[49m\u001b[43m \u001b[49m\u001b[43my\u001b[49m\u001b[43m)\u001b[49m\n\u001b[1;32m    710\u001b[0m     \u001b[38;5;28;01mfor\u001b[39;00m i \u001b[38;5;129;01min\u001b[39;00m \u001b[38;5;28mrange\u001b[39m(\u001b[38;5;28mself\u001b[39m\u001b[38;5;241m.\u001b[39mn_splits):\n\u001b[1;32m    711\u001b[0m         \u001b[38;5;28;01myield\u001b[39;00m test_folds \u001b[38;5;241m==\u001b[39m i\n",
      "File \u001b[0;32m~/gpuEnv/lib/python3.8/site-packages/sklearn/model_selection/_split.py:652\u001b[0m, in \u001b[0;36mStratifiedKFold._make_test_folds\u001b[0;34m(self, X, y)\u001b[0m\n\u001b[1;32m    650\u001b[0m allowed_target_types \u001b[38;5;241m=\u001b[39m (\u001b[38;5;124m\"\u001b[39m\u001b[38;5;124mbinary\u001b[39m\u001b[38;5;124m\"\u001b[39m, \u001b[38;5;124m\"\u001b[39m\u001b[38;5;124mmulticlass\u001b[39m\u001b[38;5;124m\"\u001b[39m)\n\u001b[1;32m    651\u001b[0m \u001b[38;5;28;01mif\u001b[39;00m type_of_target_y \u001b[38;5;129;01mnot\u001b[39;00m \u001b[38;5;129;01min\u001b[39;00m allowed_target_types:\n\u001b[0;32m--> 652\u001b[0m     \u001b[38;5;28;01mraise\u001b[39;00m \u001b[38;5;167;01mValueError\u001b[39;00m(\n\u001b[1;32m    653\u001b[0m         \u001b[38;5;124m\"\u001b[39m\u001b[38;5;124mSupported target types are: \u001b[39m\u001b[38;5;132;01m{}\u001b[39;00m\u001b[38;5;124m. Got \u001b[39m\u001b[38;5;132;01m{!r}\u001b[39;00m\u001b[38;5;124m instead.\u001b[39m\u001b[38;5;124m\"\u001b[39m\u001b[38;5;241m.\u001b[39mformat(\n\u001b[1;32m    654\u001b[0m             allowed_target_types, type_of_target_y\n\u001b[1;32m    655\u001b[0m         )\n\u001b[1;32m    656\u001b[0m     )\n\u001b[1;32m    658\u001b[0m y \u001b[38;5;241m=\u001b[39m column_or_1d(y)\n\u001b[1;32m    660\u001b[0m _, y_idx, y_inv \u001b[38;5;241m=\u001b[39m np\u001b[38;5;241m.\u001b[39munique(y, return_index\u001b[38;5;241m=\u001b[39m\u001b[38;5;28;01mTrue\u001b[39;00m, return_inverse\u001b[38;5;241m=\u001b[39m\u001b[38;5;28;01mTrue\u001b[39;00m)\n",
      "\u001b[0;31mValueError\u001b[0m: Supported target types are: ('binary', 'multiclass'). Got 'multiclass-multioutput' instead."
     ]
    }
   ],
   "source": [
    "n_splits = 4\n",
    "skf = StratifiedKFold(n_splits=n_splits)\n",
    "print(\"No.of splits: \", skf.get_n_splits(data[0], data[1]))\n",
    "print(skf)\n",
    "StratifiedKFold(n_splits=n_splits, random_state=None, shuffle=False)\n",
    "for train_index, valid_index in skf.split(data[0], data[1]):\n",
    "    print(\"TRAIN:\", train_index, \"TEST:\", valid_index)\n",
    "    X_train, X_valid = X[train_index], X[valid_index]\n",
    "    y_train, y_valid = y[train_index], y[valid_index]"
   ]
  },
  {
   "cell_type": "code",
   "execution_count": 64,
   "id": "c23b0208-77a4-436b-b011-7376db41686a",
   "metadata": {},
   "outputs": [],
   "source": [
    "y_train[y_train=='Yes'] = 1\n",
    "y_train[y_train=='No'] = 0\n",
    "y_valid[y_valid=='Yes'] = 1\n",
    "y_valid[y_valid=='No'] = 0"
   ]
  },
  {
   "cell_type": "markdown",
   "id": "9f75f1e0",
   "metadata": {},
   "source": [
    "#### Process Training Data and Testing Data"
   ]
  },
  {
   "cell_type": "code",
   "execution_count": null,
   "id": "559aaae7-9992-4aae-bc9b-99356ce24c46",
   "metadata": {
    "scrolled": true,
    "tags": []
   },
   "outputs": [],
   "source": []
  },
  {
   "cell_type": "code",
   "execution_count": 8,
   "id": "ddc1150b-93ca-4788-8c30-ea6e48db58b7",
   "metadata": {},
   "outputs": [],
   "source": [
    "# os.path.join(os.path.abspath(os.pardir), \"dataset\", \"files\", )"
   ]
  },
  {
   "cell_type": "code",
   "execution_count": null,
   "id": "d5ed80d4-4cb8-45f7-9247-f197f71594b6",
   "metadata": {},
   "outputs": [],
   "source": [
    "X_data = np.array([process_scan(os.path.join(os.path.abspath(os.pardir), \"dataset\", \"files\", path[0]+\".gz\")) for path in X_valid])"
   ]
  },
  {
   "cell_type": "code",
   "execution_count": 9,
   "id": "1a290ae0-1085-4556-ac3a-92af44696632",
   "metadata": {
    "scrolled": true,
    "tags": []
   },
   "outputs": [],
   "source": [
    "# X_train_data = np.array([process_scan(os.path.join(os.path.abspath(os.pardir), \"dataset\", \"files\", path[0]+\".gz\")) for path in X_train])\n",
    "# X_valid_data = np.array([process_scan(os.path.join(os.path.abspath(os.pardir), \"dataset\", \"files\", path[0]+\".gz\")) for path in X_valid])"
   ]
  },
  {
   "cell_type": "code",
   "execution_count": 10,
   "id": "601bfeda-2b06-489a-b5bc-051fed6de435",
   "metadata": {},
   "outputs": [],
   "source": [
    "# X_train_valid = [X_train_data, X_valid_data]"
   ]
  },
  {
   "cell_type": "code",
   "execution_count": 11,
   "id": "0afd4746-e91f-4078-955a-f2227bc9fb96",
   "metadata": {},
   "outputs": [],
   "source": [
    "outfile = \"dataCheckpoints.pkl\""
   ]
  },
  {
   "cell_type": "code",
   "execution_count": 12,
   "id": "29b730a7-67db-4074-baa6-be1b81cd0d81",
   "metadata": {},
   "outputs": [],
   "source": [
    "# ## save these objects using pickle\n",
    "# with open(outfile, \"wb\") as f:\n",
    "#     pickle.dump(X_train_valid, f)\n",
    "\n"
   ]
  },
  {
   "cell_type": "code",
   "execution_count": 13,
   "id": "dcdf9759-2aa0-4a26-9a56-0c136a48e2de",
   "metadata": {},
   "outputs": [],
   "source": [
    "#     Load the objects back\n",
    "with open(outfile, \"rb\") as f:\n",
    "    [X_train_data, X_valid_data] = pickle.load(f)"
   ]
  },
  {
   "cell_type": "code",
   "execution_count": 14,
   "id": "7c9203eb-2289-4c5d-88e5-48137f9ccd83",
   "metadata": {},
   "outputs": [
    {
     "data": {
      "text/plain": [
       "(917, 128, 128, 64)"
      ]
     },
     "execution_count": 14,
     "metadata": {},
     "output_type": "execute_result"
    }
   ],
   "source": [
    "X_train_data.shape"
   ]
  },
  {
   "cell_type": "code",
   "execution_count": 23,
   "id": "11a764b4-5f18-4e7c-875a-6b4e729dd7ca",
   "metadata": {},
   "outputs": [
    {
     "data": {
      "text/plain": [
       "(917, 2)"
      ]
     },
     "execution_count": 23,
     "metadata": {},
     "output_type": "execute_result"
    }
   ],
   "source": [
    "y_train.shape"
   ]
  },
  {
   "cell_type": "markdown",
   "id": "9c647189",
   "metadata": {},
   "source": [
    "#### Assign 1,0"
   ]
  },
  {
   "cell_type": "code",
   "execution_count": 15,
   "id": "3e1e6b67",
   "metadata": {},
   "outputs": [
    {
     "name": "stdout",
     "output_type": "stream",
     "text": [
      "Number of samples in train and validation are 917 and 394.\n"
     ]
    }
   ],
   "source": [
    "print(\n",
    "    \"Number of samples in train and validation are %d and %d.\"\n",
    "    % (X_train_data.shape[0], X_valid_data.shape[0])\n",
    ")"
   ]
  },
  {
   "cell_type": "code",
   "execution_count": 16,
   "id": "1766186b",
   "metadata": {},
   "outputs": [
    {
     "name": "stderr",
     "output_type": "stream",
     "text": [
      "2022-04-07 11:22:39.009374: I tensorflow/core/platform/cpu_feature_guard.cc:151] This TensorFlow binary is optimized with oneAPI Deep Neural Network Library (oneDNN) to use the following CPU instructions in performance-critical operations:  AVX2 AVX512F FMA\n",
      "To enable them in other operations, rebuild TensorFlow with the appropriate compiler flags.\n",
      "2022-04-07 11:22:40.232482: I tensorflow/core/common_runtime/gpu/gpu_device.cc:1525] Created device /job:localhost/replica:0/task:0/device:GPU:0 with 38397 MB memory:  -> device: 0, name: NVIDIA A100-PCIE-40GB, pci bus id: 0000:3b:00.0, compute capability: 8.0\n",
      "2022-04-07 11:22:40.238408: I tensorflow/core/common_runtime/gpu/gpu_device.cc:1525] Created device /job:localhost/replica:0/task:0/device:GPU:1 with 38397 MB memory:  -> device: 1, name: NVIDIA A100-PCIE-40GB, pci bus id: 0000:d8:00.0, compute capability: 8.0\n"
     ]
    }
   ],
   "source": [
    "# Define data loaders.\n",
    "train_loader = tf.data.Dataset.from_tensor_slices((X_train_data,y_train.astype(\"float32\")))\n",
    "validation_loader = tf.data.Dataset.from_tensor_slices((X_valid_data, y_valid.astype(\"float32\")))\n",
    "\n",
    "batch_size = 24\n",
    "# Augment the on the fly during training.\n",
    "train_dataset = (\n",
    "    train_loader.shuffle(len(X_train_data))\n",
    "    .map(train_preprocessing)\n",
    "    .batch(batch_size)\n",
    "    .prefetch(2)\n",
    ")\n",
    "# Only rescale.\n",
    "validation_dataset = (\n",
    "    validation_loader.shuffle(len(X_valid_data))\n",
    "    .map(validation_preprocessing)\n",
    "    .batch(batch_size)\n",
    "    .prefetch(2)\n",
    ")"
   ]
  },
  {
   "cell_type": "markdown",
   "id": "87400c32-63de-40c7-ba51-473811334b03",
   "metadata": {},
   "source": [
    "## Displaying Image"
   ]
  },
  {
   "cell_type": "code",
   "execution_count": 17,
   "id": "1ba5ce66",
   "metadata": {},
   "outputs": [
    {
     "name": "stdout",
     "output_type": "stream",
     "text": [
      "Dimension of the CT scan is: (128, 128, 64)\n"
     ]
    },
    {
     "data": {
      "image/png": "[encoded data removed]",
      "text/plain": [
       "<Figure size 432x288 with 1 Axes>"
      ]
     },
     "metadata": {
      "needs_background": "light"
     },
     "output_type": "display_data"
    }
   ],
   "source": [
    "\n",
    "image = X_train_data[0]\n",
    "print(\"Dimension of the CT scan is:\", image.shape)\n",
    "plt.imshow(np.squeeze(image[:, :, 30]), cmap=\"gray\")\n",
    "plt.show()"
   ]
  },
  {
   "cell_type": "code",
   "execution_count": 18,
   "id": "21cbe5f8",
   "metadata": {},
   "outputs": [
    {
     "data": {
      "image/png": "[encoded data removed]",
      "text/plain": [
       "<Figure size 864x345.6 with 40 Axes>"
      ]
     },
     "metadata": {
      "needs_background": "light"
     },
     "output_type": "display_data"
    }
   ],
   "source": [
    "def plot_slices(num_rows, num_columns, width, height, data):\n",
    "    \"\"\"Plot a montage of 20 CT slices\"\"\"\n",
    "    data = np.rot90(np.array(data))\n",
    "    data = np.transpose(data)\n",
    "    data = np.reshape(data, (num_rows, num_columns, width, height))\n",
    "    rows_data, columns_data = data.shape[0], data.shape[1]\n",
    "    heights = [slc[0].shape[0] for slc in data]\n",
    "    widths = [slc.shape[1] for slc in data[0]]\n",
    "    fig_width = 12.0\n",
    "    fig_height = fig_width * sum(heights) / sum(widths)\n",
    "    f, axarr = plt.subplots(\n",
    "        rows_data,\n",
    "        columns_data,\n",
    "        figsize=(fig_width, fig_height),\n",
    "        gridspec_kw={\"height_ratios\": heights},\n",
    "    )\n",
    "    for i in range(rows_data):\n",
    "        for j in range(columns_data):\n",
    "            axarr[i, j].imshow(data[i][j], cmap=\"gray\")\n",
    "            axarr[i, j].axis(\"off\")\n",
    "    plt.subplots_adjust(wspace=0, hspace=0, left=0, right=1, bottom=0, top=1)\n",
    "    plt.show()\n",
    "\n",
    "\n",
    "# Visualize montage of slices.\n",
    "# 4 rows and 10 columns for 100 slices of the CT scan.\n",
    "plot_slices(4, 10, 128, 128, image[:, :, :40])"
   ]
  },
  {
   "cell_type": "code",
   "execution_count": 19,
   "id": "437a1d11-fbb1-4e94-89b1-530efb733e87",
   "metadata": {},
   "outputs": [
    {
     "name": "stdout",
     "output_type": "stream",
     "text": [
      "Model: \"3dcnn\"\n",
      "_________________________________________________________________\n",
      " Layer (type)                Output Shape              Param #   \n",
      "=================================================================\n",
      " input_1 (InputLayer)        [(None, 128, 128, 64, 1)  0         \n",
      "                             ]                                   \n",
      "                                                                 \n",
      " conv3d (Conv3D)             (None, 126, 126, 62, 16)  448       \n",
      "                                                                 \n",
      " max_pooling3d (MaxPooling3D  (None, 63, 63, 31, 16)   0         \n",
      " )                                                               \n",
      "                                                                 \n",
      " batch_normalization (BatchN  (None, 63, 63, 31, 16)   64        \n",
      " ormalization)                                                   \n",
      "                                                                 \n",
      " conv3d_1 (Conv3D)           (None, 61, 61, 29, 32)    13856     \n",
      "                                                                 \n",
      " max_pooling3d_1 (MaxPooling  (None, 30, 30, 14, 32)   0         \n",
      " 3D)                                                             \n",
      "                                                                 \n",
      " batch_normalization_1 (Batc  (None, 30, 30, 14, 32)   128       \n",
      " hNormalization)                                                 \n",
      "                                                                 \n",
      " conv3d_2 (Conv3D)           (None, 28, 28, 12, 64)    55360     \n",
      "                                                                 \n",
      " max_pooling3d_2 (MaxPooling  (None, 14, 14, 6, 64)    0         \n",
      " 3D)                                                             \n",
      "                                                                 \n",
      " batch_normalization_2 (Batc  (None, 14, 14, 6, 64)    256       \n",
      " hNormalization)                                                 \n",
      "                                                                 \n",
      " global_average_pooling3d (G  (None, 64)               0         \n",
      " lobalAveragePooling3D)                                          \n",
      "                                                                 \n",
      " dense (Dense)               (None, 256)               16640     \n",
      "                                                                 \n",
      " dropout (Dropout)           (None, 256)               0         \n",
      "                                                                 \n",
      " dense_1 (Dense)             (None, 2)                 514       \n",
      "                                                                 \n",
      "=================================================================\n",
      "Total params: 87,266\n",
      "Trainable params: 87,042\n",
      "Non-trainable params: 224\n",
      "_________________________________________________________________\n"
     ]
    }
   ],
   "source": [
    "def get_model(width=128, height=128, depth=64):\n",
    "    \"\"\"Build a 3D convolutional neural network model.\"\"\"\n",
    "\n",
    "    inputs = keras.Input((width, height, depth, 1))\n",
    "\n",
    "    x = layers.Conv3D(filters=16, kernel_size=3, activation=\"relu\")(inputs)\n",
    "    x = layers.MaxPool3D(pool_size=2)(x)\n",
    "    x = layers.BatchNormalization()(x)\n",
    "\n",
    "    x = layers.Conv3D(filters=32, kernel_size=3, activation=\"relu\")(x)\n",
    "    x = layers.MaxPool3D(pool_size=2)(x)\n",
    "    x = layers.BatchNormalization()(x)\n",
    "\n",
    "    x = layers.Conv3D(filters=64, kernel_size=3, activation=\"relu\")(x)\n",
    "    x = layers.MaxPool3D(pool_size=2)(x)\n",
    "    x = layers.BatchNormalization()(x)\n",
    "\n",
    "    x = layers.GlobalAveragePooling3D()(x)\n",
    "    x = layers.Dense(units=256, activation=\"relu\")(x)\n",
    "    x = layers.Dropout(0.3)(x)\n",
    "\n",
    "    outputs = layers.Dense(units=2, activation=\"sigmoid\")(x)\n",
    "\n",
    "    # Define the model.\n",
    "    model = keras.Model(inputs, outputs, name=\"3dcnn\")\n",
    "    return model\n",
    "\n",
    "\n",
    "# Build model.\n",
    "model = get_model(width=128, height=128, depth=64)\n",
    "model.summary()"
   ]
  },
  {
   "cell_type": "code",
   "execution_count": 22,
   "id": "c9e354f0",
   "metadata": {
    "scrolled": true,
    "tags": []
   },
   "outputs": [
    {
     "name": "stdout",
     "output_type": "stream",
     "text": [
      "Epoch 1/100\n"
     ]
    },
    {
     "name": "stderr",
     "output_type": "stream",
     "text": [
      "2022-04-07 11:23:19.338675: I tensorflow/stream_executor/cuda/cuda_dnn.cc:368] Loaded cuDNN version 8100\n",
      "2022-04-07 11:23:21.713569: I tensorflow/stream_executor/cuda/cuda_blas.cc:1786] TensorFloat-32 will be used for the matrix multiplication. This will only be logged once.\n"
     ]
    },
    {
     "name": "stdout",
     "output_type": "stream",
     "text": [
      "39/39 [==============================] - 13s 203ms/step - loss: 0.7233 - acc: 0.3315 - val_loss: 0.6939 - val_acc: 0.4949\n",
      "Epoch 2/100\n",
      "39/39 [==============================] - 7s 184ms/step - loss: 0.6261 - acc: 0.8833 - val_loss: 0.6960 - val_acc: 0.4949\n",
      "Epoch 3/100\n",
      "39/39 [==============================] - 7s 184ms/step - loss: 0.5522 - acc: 0.9826 - val_loss: 0.6991 - val_acc: 0.4949\n",
      "Epoch 4/100\n",
      "39/39 [==============================] - 7s 184ms/step - loss: 0.4919 - acc: 0.9847 - val_loss: 0.7018 - val_acc: 0.4949\n",
      "Epoch 5/100\n",
      "39/39 [==============================] - 7s 185ms/step - loss: 0.4460 - acc: 0.9815 - val_loss: 0.6971 - val_acc: 0.4949\n",
      "Epoch 6/100\n",
      "39/39 [==============================] - 7s 186ms/step - loss: 0.4059 - acc: 0.9826 - val_loss: 0.6857 - val_acc: 0.4949\n",
      "Epoch 7/100\n",
      "39/39 [==============================] - 7s 184ms/step - loss: 0.3752 - acc: 0.9836 - val_loss: 0.6628 - val_acc: 0.4949\n",
      "Epoch 8/100\n",
      "39/39 [==============================] - 8s 196ms/step - loss: 0.3488 - acc: 0.9826 - val_loss: 0.6231 - val_acc: 0.4949\n",
      "Epoch 9/100\n",
      "39/39 [==============================] - 7s 186ms/step - loss: 0.3219 - acc: 0.9804 - val_loss: 0.5747 - val_acc: 0.6980\n",
      "Epoch 10/100\n",
      "39/39 [==============================] - 7s 185ms/step - loss: 0.2972 - acc: 0.9815 - val_loss: 0.5236 - val_acc: 0.8934\n",
      "Epoch 11/100\n",
      "39/39 [==============================] - 7s 185ms/step - loss: 0.2893 - acc: 0.9793 - val_loss: 0.4681 - val_acc: 0.9594\n",
      "Epoch 12/100\n",
      "39/39 [==============================] - 7s 184ms/step - loss: 0.2660 - acc: 0.9880 - val_loss: 0.4090 - val_acc: 0.9695\n",
      "Epoch 13/100\n",
      "39/39 [==============================] - 7s 186ms/step - loss: 0.2496 - acc: 0.9826 - val_loss: 0.3575 - val_acc: 0.9695\n",
      "Epoch 14/100\n",
      "39/39 [==============================] - 7s 188ms/step - loss: 0.2366 - acc: 0.9815 - val_loss: 0.3157 - val_acc: 0.9721\n",
      "Epoch 15/100\n",
      "39/39 [==============================] - 7s 186ms/step - loss: 0.2332 - acc: 0.9836 - val_loss: 0.2825 - val_acc: 0.9721\n",
      "Epoch 16/100\n",
      "39/39 [==============================] - 7s 185ms/step - loss: 0.2228 - acc: 0.9815 - val_loss: 0.2597 - val_acc: 0.9721\n",
      "Epoch 17/100\n",
      "39/39 [==============================] - 7s 185ms/step - loss: 0.2126 - acc: 0.9782 - val_loss: 0.2432 - val_acc: 0.9721\n",
      "Epoch 18/100\n",
      "39/39 [==============================] - 7s 185ms/step - loss: 0.1997 - acc: 0.9782 - val_loss: 0.2281 - val_acc: 0.9721\n",
      "Epoch 19/100\n",
      "39/39 [==============================] - 7s 185ms/step - loss: 0.2010 - acc: 0.9771 - val_loss: 0.2160 - val_acc: 0.9721\n",
      "Epoch 20/100\n",
      "39/39 [==============================] - 7s 185ms/step - loss: 0.1853 - acc: 0.9869 - val_loss: 0.2081 - val_acc: 0.9721\n",
      "Epoch 21/100\n",
      "39/39 [==============================] - 7s 185ms/step - loss: 0.1750 - acc: 0.9804 - val_loss: 0.2008 - val_acc: 0.9721\n",
      "Epoch 22/100\n",
      "39/39 [==============================] - 7s 186ms/step - loss: 0.1737 - acc: 0.9836 - val_loss: 0.1966 - val_acc: 0.9695\n",
      "Epoch 23/100\n",
      "39/39 [==============================] - 7s 185ms/step - loss: 0.1610 - acc: 0.9847 - val_loss: 0.1873 - val_acc: 0.9695\n",
      "Epoch 24/100\n",
      "39/39 [==============================] - 7s 187ms/step - loss: 0.1650 - acc: 0.9804 - val_loss: 0.1839 - val_acc: 0.9695\n",
      "Epoch 25/100\n",
      "39/39 [==============================] - 7s 186ms/step - loss: 0.1468 - acc: 0.9836 - val_loss: 0.1742 - val_acc: 0.9721\n",
      "Epoch 26/100\n",
      "39/39 [==============================] - 7s 184ms/step - loss: 0.1444 - acc: 0.9869 - val_loss: 0.1682 - val_acc: 0.9721\n",
      "Epoch 27/100\n",
      "39/39 [==============================] - 7s 184ms/step - loss: 0.1395 - acc: 0.9858 - val_loss: 0.1679 - val_acc: 0.9695\n",
      "Epoch 28/100\n",
      "39/39 [==============================] - 7s 184ms/step - loss: 0.1388 - acc: 0.9826 - val_loss: 0.1648 - val_acc: 0.9695\n",
      "Epoch 29/100\n",
      "39/39 [==============================] - 7s 186ms/step - loss: 0.1294 - acc: 0.9869 - val_loss: 0.1607 - val_acc: 0.9695\n"
     ]
    },
    {
     "data": {
      "text/plain": [
       "<keras.callbacks.History at 0x14a5c54f87c0>"
      ]
     },
     "execution_count": 22,
     "metadata": {},
     "output_type": "execute_result"
    }
   ],
   "source": [
    "# Compile model.\n",
    "initial_learning_rate = 0.00001\n",
    "lr_schedule = optimizers.schedules.ExponentialDecay(\n",
    "    initial_learning_rate, decay_steps=100000, decay_rate=0.96, staircase=True\n",
    ")\n",
    "model.compile(\n",
    "    loss=\"binary_crossentropy\",\n",
    "    optimizer=optimizers.Adam(learning_rate=lr_schedule),\n",
    "    metrics=[\"acc\"],\n",
    ")\n",
    "\n",
    "# Define callbacks.\n",
    "checkpoint_cb = keras.callbacks.ModelCheckpoint(\n",
    "    \"3d_image_classification_relu.h5\", save_best_only=True\n",
    ")\n",
    "\n",
    "early_stopping_cb = keras.callbacks.EarlyStopping(monitor=\"val_acc\", patience=15)\n",
    "\n",
    "# Train the model, doing validation at the end of each epoch\n",
    "epochs = 100\n",
    "model.fit(\n",
    "    train_dataset,\n",
    "    validation_data=validation_dataset,\n",
    "    epochs=epochs,\n",
    "    callbacks=[checkpoint_cb, early_stopping_cb],\n",
    ")"
   ]
  },
  {
   "cell_type": "code",
   "execution_count": 24,
   "id": "c559d9f4",
   "metadata": {
    "tags": []
   },
   "outputs": [
    {
     "data": {
      "image/png": "[encoded data removed]",
      "text/plain": [
       "<Figure size 1440x216 with 2 Axes>"
      ]
     },
     "metadata": {
      "needs_background": "light"
     },
     "output_type": "display_data"
    }
   ],
   "source": [
    "fig, ax = plt.subplots(1, 2, figsize=(20, 3))\n",
    "ax = ax.ravel()\n",
    "\n",
    "for i, metric in enumerate([\"acc\", \"loss\"]):\n",
    "    ax[i].plot(model.history.history[metric])\n",
    "    ax[i].plot(model.history.history[\"val_\" + metric])\n",
    "    ax[i].set_title(\"Model {}\".format(metric))\n",
    "    ax[i].set_xlabel(\"epochs\")\n",
    "    ax[i].set_ylabel(metric)\n",
    "    ax[i].legend([\"train\", \"val\"])"
   ]
  },
  {
   "cell_type": "markdown",
   "id": "e6b5fd49-c2f8-4f38-a1ca-c44f7a94576d",
   "metadata": {},
   "source": [
    "### Predict with a image"
   ]
  },
  {
   "cell_type": "code",
   "execution_count": 27,
   "id": "c009be50",
   "metadata": {},
   "outputs": [
    {
     "name": "stdout",
     "output_type": "stream",
     "text": [
      "(0.5, 0.5, 0.4266666666666667)\n",
      "(128, 128, 64)\n"
     ]
    }
   ],
   "source": [
    "file = process_scan('../dataset/files/IXI002-Guys-0828-T1_bse_less_s5_r1.nii.gz')\n",
    "file = tf.expand_dims(file, axis=0)\n",
    "\n",
    "prediction = model.predict(file)\n",
    "\n",
    "\n",
    "# yes,no = prediction[0] * 100, (1-prediction[0]) *100\n",
    "\n",
    "# print(\"Yes=\",yes[0],\"No=\",no[0])\n",
    "# if(yes[0]>50):\n",
    "#     print(\"Facial Feature Recognizable\")\n",
    "# else:\n",
    "#     print(\"Facial Feature not recognizable\")"
   ]
  },
  {
   "cell_type": "code",
   "execution_count": 44,
   "id": "4a948819-2207-40ef-b4fb-7196b1fbec4c",
   "metadata": {},
   "outputs": [
    {
     "data": {
      "text/plain": [
       "True"
      ]
     },
     "execution_count": 44,
     "metadata": {},
     "output_type": "execute_result"
    }
   ],
   "source": [
    "prediction[0][0]>0.5\n"
   ]
  },
  {
   "cell_type": "code",
   "execution_count": 43,
   "id": "53b33b64-ff6d-46d0-8e14-846988f46fd8",
   "metadata": {},
   "outputs": [
    {
     "data": {
      "text/plain": [
       "False"
      ]
     },
     "execution_count": 43,
     "metadata": {},
     "output_type": "execute_result"
    }
   ],
   "source": [
    "prediction[0][1]>0.5"
   ]
  }
 ],
 "metadata": {
  "kernelspec": {
   "display_name": "GpuEnv",
   "language": "python",
   "name": "gpuenv"
  },
  "language_info": {
   "codemirror_mode": {
    "name": "ipython",
    "version": 3
   },
   "file_extension": ".py",
   "mimetype": "text/x-python",
   "name": "python",
   "nbconvert_exporter": "python",
   "pygments_lexer": "ipython3",
   "version": "3.8.8"
  }
 },
 "nbformat": 4,
 "nbformat_minor": 5
}
