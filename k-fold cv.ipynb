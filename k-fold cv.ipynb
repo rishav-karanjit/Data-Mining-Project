{
 "cells": [
  {
   "cell_type": "code",
   "execution_count": 8,
   "id": "40e0c9d6",
   "metadata": {},
   "outputs": [],
   "source": [
    "# packages for kfold\n",
    "from keras.models import Sequential\n",
    "from sklearn.model_selection import  KFold\n",
    "from sklearn.metrics import accuracy_score\n",
    "\n",
    "#from sklearn.model_selection import train_test_split\n",
    "#from sklearn.preprocessing import LabelEncoder"
   ]
  },
  {
   "cell_type": "markdown",
   "id": "32ffbfce",
   "metadata": {},
   "source": [
    "# Preparation for k-folds"
   ]
  },
  {
   "cell_type": "code",
   "execution_count": 9,
   "id": "77ac7910",
   "metadata": {},
   "outputs": [],
   "source": [
    "# load data\n",
    "def load_data(csv_file_path, x_names = [], y_names = []):\n",
    "    \n",
    "    print (\"Loading data from: \",csv_file_path)\n",
    "    #reads CSV file into a single dataframe variable\n",
    "    data_df = pd.read_csv(csv_file_path, names=x_names+y_names, skiprows=1)\n",
    "    #yay dataframes, we can select rows and columns by their names\n",
    "    X = data_df[x_names].values\n",
    "    #and our steering commands as our output data\n",
    "    y = data_df[y_names ].values\n",
    "    return X, y\n",
    "\n",
    "\n",
    "# split the data into k-folds\n",
    "def kfold_cv(X, y, k):\n",
    "    \n",
    "    kfold = KFold(n_splits=k, random_state=None, shuffle=True)\n",
    "    i = 0\n",
    "    for train_index, test_index in kfold.split(X, y):\n",
    "        X_train = X.iloc[train_index]\n",
    "        X_valid = X.iloc[test_index]\n",
    "        y_train = y.iloc[train_index]\n",
    "        y_valid = y.iloc[test_index]\n",
    "        \n",
    "        # define neural network function\n",
    "        # insert here to replace \"model.fit\"\n",
    "        model.fit(X_train, y_train)\n",
    "        # define model precition function and replace below line\n",
    "        accuracy = accuracy_score(y_test, model.predict(X_test))\n",
    "        print(f\"Accuracy for the Fold no. {i} on the test set: {accuracy}\")\n",
    "        \n",
    "        i +=  1"
   ]
  }
 ],
 "metadata": {
  "kernelspec": {
   "display_name": "Python 3 (ipykernel)",
   "language": "python",
   "name": "python3"
  },
  "language_info": {
   "codemirror_mode": {
    "name": "ipython",
    "version": 3
   },
   "file_extension": ".py",
   "mimetype": "text/x-python",
   "name": "python",
   "nbconvert_exporter": "python",
   "pygments_lexer": "ipython3",
   "version": "3.8.12"
  }
 },
 "nbformat": 4,
 "nbformat_minor": 5
}
